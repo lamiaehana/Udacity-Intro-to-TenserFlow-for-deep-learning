{
  "nbformat": 4,
  "nbformat_minor": 0,
  "metadata": {
    "colab": {
      "name": "Lesson5_Going Further on CNN_Note.ipynb",
      "provenance": [],
      "include_colab_link": true
    },
    "kernelspec": {
      "name": "python3",
      "display_name": "Python 3"
    }
  },
  "cells": [
    {
      "cell_type": "markdown",
      "metadata": {
        "id": "view-in-github",
        "colab_type": "text"
      },
      "source": [
        "<a href=\"https://colab.research.google.com/github/lamiaehana/Udacity-Intro-to-TenserFlow-for-deep-learning/blob/master/Lesson5_Going_Further_on_CNN_Note.ipynb\" target=\"_parent\"><img src=\"https://colab.research.google.com/assets/colab-badge.svg\" alt=\"Open In Colab\"/></a>"
      ]
    },
    {
      "cell_type": "markdown",
      "metadata": {
        "id": "UbrVmUP3fPy8",
        "colab_type": "text"
      },
      "source": [
        "# Softmax and Sigmoid\n",
        "In the previous Colab, we used the following the CNN architecture:"
      ]
    },
    {
      "cell_type": "code",
      "metadata": {
        "id": "GgQJqIXnfIjX",
        "colab_type": "code",
        "colab": {}
      },
      "source": [
        "model = tf.keras.models.Sequential([\n",
        "    tf.keras.layers.Conv2D(32, (3,3), activation='relu', input_shape=(150, 150, 3)),\n",
        "    tf.keras.layers.MaxPooling2D(2, 2),\n",
        "\n",
        "    tf.keras.layers.Conv2D(64, (3,3), activation='relu'),\n",
        "    tf.keras.layers.MaxPooling2D(2,2),\n",
        "\n",
        "    tf.keras.layers.Conv2D(128, (3,3), activation='relu'),\n",
        "    tf.keras.layers.MaxPooling2D(2,2),\n",
        "\n",
        "    tf.keras.layers.Conv2D(128, (3,3), activation='relu'),\n",
        "    tf.keras.layers.MaxPooling2D(2,2),\n",
        "\n",
        "    tf.keras.layers.Flatten(),\n",
        "    tf.keras.layers.Dense(512, activation='relu'),\n",
        "    tf.keras.layers.Dense(2, activation='softmax')\n",
        "])"
      ],
      "execution_count": 0,
      "outputs": []
    },
    {
      "cell_type": "markdown",
      "metadata": {
        "id": "GSRuj70lfaih",
        "colab_type": "text"
      },
      "source": [
        "Notice that our last layer (our classifier) consists of a **Dense** layer with **2** output units and a **softmax** activation function, as seen below:"
      ]
    },
    {
      "cell_type": "code",
      "metadata": {
        "id": "9S8UVhNRfkr-",
        "colab_type": "code",
        "colab": {}
      },
      "source": [
        "tf.keras.layers.Dense(2, activation='softmax')"
      ],
      "execution_count": 0,
      "outputs": []
    },
    {
      "cell_type": "markdown",
      "metadata": {
        "id": "VWmFoxrxfmg2",
        "colab_type": "text"
      },
      "source": [
        "Another popular approach when working with binary classification problems, is to use a classifier that consists of a **Dense** layer with **1** output unit and a **sigmoid** activation function, as seen below:"
      ]
    },
    {
      "cell_type": "code",
      "metadata": {
        "id": "9SM4dRfQfsl6",
        "colab_type": "code",
        "colab": {}
      },
      "source": [
        " tf.keras.layers.Dense(1, activation='sigmoid')"
      ],
      "execution_count": 0,
      "outputs": []
    },
    {
      "cell_type": "markdown",
      "metadata": {
        "id": "7wCVVbqTfvJF",
        "colab_type": "text"
      },
      "source": [
        "Either of these two options will work well in a binary classification problem. However, you should keep in mind, that if you decide to use a **sigmoid** activation function in your classifier, you will also have to change the **loss** parameter in the **model.compile()** method, from **'sparse_categorical_crossentropy'** to **'binary_crossentropy'**, as shown below:"
      ]
    },
    {
      "cell_type": "code",
      "metadata": {
        "id": "Z3IX-_LXf8K3",
        "colab_type": "code",
        "colab": {}
      },
      "source": [
        "model.compile(optimizer='adam', \n",
        "              loss='binary_crossentropy',\n",
        "              metrics=['accuracy'])"
      ],
      "execution_count": 0,
      "outputs": []
    },
    {
      "cell_type": "markdown",
      "metadata": {
        "id": "0sNPfwIomIgN",
        "colab_type": "text"
      },
      "source": [
        "# Other Techniques to Prevent Overfitting\n",
        "In this lesson we saw three different techniques to prevent overfitting:\n",
        "\n",
        "\n",
        "*   **Early Stopping:** In this method, we track the loss on the validation set during the training phase and use it to determine when to stop training such that the model is accurate but not overfitting.\n",
        "*   **Image Augmentation:** Artificially boosting the number of images in our training set by **applying random image transformations** to the existing images in the training set.\n",
        "*   **Dropout:** Removing a random selection of a fixed number of neurons in a neural network during training.\n",
        "\n",
        "However, these are not the only techniques available to prevent overfitting. You can read more about these and other techniques in the link below:\n",
        "[Memorizing is not learning! — 6 tricks to prevent overfitting in machine learning](https://https://hackernoon.com/memorizing-is-not-learning-6-tricks-to-prevent-overfitting-in-machine-learning-820b091dc42)"
      ]
    },
    {
      "cell_type": "markdown",
      "metadata": {
        "id": "i9p8YCVX8xsj",
        "colab_type": "text"
      },
      "source": [
        "# Summary\n",
        "In this lesson we learned how Convolutional Neural Networks work with color images and saw various techniques that we can use to <u>avoid overfitting</u> . The main key points of this lesson are:\n",
        "\n",
        "CNNs with RGB Images of Different Sizes:\n",
        "*   **Resizing:** When working with images of different sizes, you must resize all the images to the same size so that they can be fed into a CNN.\n",
        "*   **Color Images:** Computers interpret color images as 3D arrays.\n",
        "*   **RGB Image:** Color image composed of 3 color channels: Red, Green, and Blue.\n",
        "*   **Convolutions:** When working with RGB images we convolve each color channel with its own convolutional filter. Convolutions on each color channel are performed in the same way as with grayscale images, i.e. by performing element-wise multiplication of the convolutional filter (kernel) and a section of the input array. The result of each convolution is added up together with a bias value to get the convoluted output.\n",
        "*   **Max Pooling:** When working with RGB images we perform max pooling on each color channel using the same window size and stride. Max pooling on each color channel is performed in the same way as with grayscale images, i.e. by selecting the max value in each window.\n",
        "*   **Validation Set:** We use a validation set to check how the model is doing during the training phase. Validation sets can be used to perform Early Stopping to prevent overfitting and can also be used to help us compare different models and choose the best one.\n",
        "\n",
        "Methods to Prevent Overfitting:\n",
        "\n",
        "*   **Early Stopping:** In this method, we track the loss on the validation set during the training phase and use it to determine when to stop training such that the model is accurate but not overfitting.\n",
        "*   **Image Augmentation:** Artificially boosting the number of images in our training set by applying random image transformations to the existing images in the training set.\n",
        "*   **Dropout:** Removing a random selection of a fixed number of neurons in a neural network during training.\n",
        "\n",
        "You also created and trained a Convolutional Neural Network to classify images of Dogs and Cats with and without Image Augmentation and Dropout. You were able to see that Image Augmentation and Dropout greatly reduces overfitting and improves accuracy. As an exercise, you were able to apply everything you learned in this lesson to create your own CNN to classify images of flowers.\n",
        "\n",
        "\n",
        "\n",
        "\n",
        "\n",
        "\n",
        "\n",
        "\n",
        "\n"
      ]
    },
    {
      "cell_type": "code",
      "metadata": {
        "id": "Id9zF2S_8woP",
        "colab_type": "code",
        "colab": {}
      },
      "source": [
        ""
      ],
      "execution_count": 0,
      "outputs": []
    }
  ]
}