{
  "nbformat": 4,
  "nbformat_minor": 0,
  "metadata": {
    "colab": {
      "name": "Untitled4.ipynb",
      "provenance": [],
      "include_colab_link": true
    },
    "kernelspec": {
      "name": "python3",
      "display_name": "Python 3"
    }
  },
  "cells": [
    {
      "cell_type": "markdown",
      "metadata": {
        "id": "view-in-github",
        "colab_type": "text"
      },
      "source": [
        "<a href=\"https://colab.research.google.com/github/lamiaehana/Udacity-Intro-to-TenserFlow-for-deep-learning/blob/master/Lesson%201_Note.ipynb\" target=\"_parent\"><img src=\"https://colab.research.google.com/assets/colab-badge.svg\" alt=\"Open In Colab\"/></a>"
      ]
    },
    {
      "cell_type": "markdown",
      "metadata": {
        "id": "J7UZnPuH7f_j",
        "colab_type": "text"
      },
      "source": [
        "# Intro to TenserFlow for deep learning\n",
        "\n",
        "## Introduction\n",
        "\n",
        "When studying Machine Learning you will come across many different terms such as <u>artificial intelligence</u>, <u>machine learning</u>, <u>neural network</u>, and <u>deep learning</u>. But what do these terms actually mean and how do they relate to each other?\n",
        "\n",
        "Below we give a brief description of these terms:  \n",
        "\n",
        "**Artificial Intelligence:** A field of computer science that aims to make computers achieve human-style intelligence. There are many approaches to reaching this goal, including machine learning and deep learning.\n",
        "\n",
        "*   **Machine Learning:** A set of related techniques in which computers are trained to perform a particular task rather than by explicitly programming them.\n",
        "*   **Neural Network:** A construct in Machine Learning inspired by the network of neurons (nerve cells) in the biological brain. Neural networks are a fundamental part of deep learning, and will be covered in this course.\n",
        "*   **Deep Learning:** A subfield of machine learning that uses multi-layered neural networks. Often, “machine learning” and “deep learning” are used interchangeably\n",
        "\n",
        "<u>Machine learning</u> and <u>deep learning</u> also have many subfields, branches, and special techniques. A notable example of this diversity is the separation of **Supervised Learning** and **Unsupervised Learning**.\n",
        "\n",
        "To over simplify — in **supervised learning** you know what you want to teach the computer, while **unsupervised learning** is about letting the computer figure out what can be learned. Supervised learning is the most common type of machine learning, and will be the focus of this course.\n",
        "\n",
        "\n",
        "\n",
        "\n"
      ]
    },
    {
      "cell_type": "markdown",
      "metadata": {
        "id": "c2wnWGnd9EwR",
        "colab_type": "text"
      },
      "source": [
        "## Applications of Machine Learning\n"
      ]
    },
    {
      "cell_type": "markdown",
      "metadata": {
        "id": "_h7bz2HBLtz7",
        "colab_type": "text"
      },
      "source": [
        "## Recap:\n",
        "\n",
        "We saw that by training the model with input data and the corresponding output, the model learned to multiply the input by 1.8 and then add 32 to get the correct result.\n",
        "\n",
        "This was really impressive considering that we only needed a few lines code:"
      ]
    },
    {
      "cell_type": "code",
      "metadata": {
        "id": "5ie7ZfQL7fED",
        "colab_type": "code",
        "colab": {}
      },
      "source": [
        "l0 = tf.keras.layers.Dense(units=1, input_shape=[1]) \n",
        "model = tf.keras.Sequential([l0])\n",
        "model.compile(loss='mean_squared_error', optimizer=tf.keras.optimizers.Adam(0.1))\n",
        "history = model.fit(celsius_q, fahrenheit_a, epochs=500, verbose=False)\n",
        "model.predict([100.0])"
      ],
      "execution_count": 0,
      "outputs": []
    },
    {
      "cell_type": "markdown",
      "metadata": {
        "id": "7tFJShvgL3Zi",
        "colab_type": "text"
      },
      "source": [
        "This example is the general plan for of any machine learning program. You will use the same structure to create and train your neural network, and use it to make predictions."
      ]
    },
    {
      "cell_type": "markdown",
      "metadata": {
        "id": "Lp_lA18sL8e4",
        "colab_type": "text"
      },
      "source": [
        "## The Training Process\n",
        "\n",
        "The training process (happening in model.fit(...)) is really about tuning the internal variables of the networks to the best possible values, so that they can map the input to the output. This is achieved through an optimization process called Gradient Descent, which uses Numeric Analysis to find the best possible values to the internal variables of the model.\n",
        "\n",
        "To do machine learning, you don't really need to understand these details. But for the curious: **gradient descent** iteratively adjusts parameters, nudging them in the correct direction a bit at a time until they reach the best values. In this case “best values” means that nudging them any more would make the model perform worse. The function that measures how good or bad the model is during each iteration is called the **“loss function”**, and the goal of each nudge is to “minimize the loss function.”\n",
        "\n",
        "The training process starts with a forward pass, where the input data is fed to the neural network. Then the model applies its internal math on the input and internal variables to predict an answer.\n",
        "\n",
        "Once a value is predicted, the difference between that predicted value and the correct value is calculated. This difference is called **the loss**, and it's a measure of how well the model performed the mapping task. The value of the loss is calculated using a loss function, which we specified with the loss parameter when calling **model.compile()**.\n",
        "\n",
        "After the loss is calculated, the internal variables (weights and biases) of all the layers of the neural network are adjusted, so as to minimize this loss — that is, to make the output value closer to the correct value.\n",
        "\n",
        "This optimization process is called **Gradient Descent**. The specific algorithm used to calculate the new value of each internal variable is specified by the optimizer parameter when calling **model.compile(...)**. In this example we used the **Adam optimizer**.\n",
        "\n"
      ]
    },
    {
      "cell_type": "markdown",
      "metadata": {
        "id": "NEusALBVM-V6",
        "colab_type": "text"
      },
      "source": [
        "By now you should know what the following terms are:\n",
        "*   **Feature:** The input(s) to our model\n",
        "*   **Examples:** An input/output pair used for training\n",
        "*   **Labels:** The output of the model\n",
        "*   **Layer:** A collection of nodes connected together within a neural network.\n",
        "*   **Model:** The representation of your neural network\n",
        "*   **Dense and Fully Connected (FC):** Each node in one layer is connected to each node in the previous layer.\n",
        "*   **Weights and biases:** The internal variables of model\n",
        "*   **Loss:** The discrepancy between the desired output and the actual output\n",
        "*   **MSE:** Mean squared error, a type of loss function that counts a small number of large discrepancies as worse than a large number of small ones.\n",
        "*   **Gradient Descent:** An algorithm that changes the internal variables a bit at a time to gradually reduce the loss function.\n",
        "*   **Optimizer:** A specific implementation of the gradient descent algorithm. (There are many algorithms for this. In this course we will only use the “Adam” Optimizer, which stands for ADAptive with Momentum. It is considered the best-practice optimizer.)\n",
        "*   **Learning rate:** The “step size” for loss improvement during gradient descent.\n",
        "*   **Batch:** The set of examples used during training of the neural network\n",
        "*   **Epoch:** A full pass over the entire training dataset\n",
        "*   **Forward pass:** The computation of output values from input\n",
        "*  ** Backward pass (backpropagation): ** The calculation of internal variable adjustments according to the optimizer algorithm, starting from the output layer and working back through each layer to the input."
      ]
    }
  ]
}