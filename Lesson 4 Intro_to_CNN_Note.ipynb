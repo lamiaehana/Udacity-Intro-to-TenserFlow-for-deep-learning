{
  "nbformat": 4,
  "nbformat_minor": 0,
  "metadata": {
    "colab": {
      "name": "Intro to CNN_Note.ipynb",
      "provenance": [],
      "include_colab_link": true
    },
    "kernelspec": {
      "name": "python3",
      "display_name": "Python 3"
    }
  },
  "cells": [
    {
      "cell_type": "markdown",
      "metadata": {
        "id": "view-in-github",
        "colab_type": "text"
      },
      "source": [
        "<a href=\"https://colab.research.google.com/github/lamiaehana/Udacity-Intro-to-TenserFlow-for-deep-learning/blob/master/Lesson%204%20Intro_to_CNN_Note.ipynb\" target=\"_parent\"><img src=\"https://colab.research.google.com/assets/colab-badge.svg\" alt=\"Open In Colab\"/></a>"
      ]
    },
    {
      "cell_type": "markdown",
      "metadata": {
        "id": "5ojRyPaIvd75",
        "colab_type": "text"
      },
      "source": [
        "# Recap\n",
        "\n",
        "**A convolution** is the process of applying a filter (“kernel”) to an image. **Max pooling** is the process of reducing the size of the image through downsampling.\n",
        "\n",
        "A convolutional layers can be added to the neural network model using the Conv2D layer type in Keras. This layer is similar to the Dense layer, and has weights and biases that need to be tuned to the right values. The Conv2D layer also has kernels (filters) whose values need to be tuned as well. So, in a Conv2D layer the values inside the filter matrix are the variables that get tuned in order to produce the right output.\n",
        "\n",
        "Here are some of terms that were introduced in this lesson:\n",
        "*   **CNNs:** Convolutional neural network. That is, a network which has at least one convolutional layer. A typical CNN also includes other types of layers, such as pooling layers and dense layers.\n",
        "*   **Convolution:** The process of applying a kernel (filter) to an image\n",
        "*   **Kernel / filter:** A matrix which is smaller than the input, used to transform the input into chunks\n",
        "*   **Padding:** Adding pixels of some value, usually 0, around the input image\n",
        "Pooling The process of reducing the size of an image through downsampling.There are several types of pooling layers. For example, average pooling converts many values into a single value by taking the average. However, maxpooling is the most common.\n",
        "*   **Maxpooling:** A pooling process in which many values are converted into a single value by taking the maximum value from among them.\n",
        "*   **Stride:** the number of pixels to slide the kernel (filter) across the image.\n",
        "*   **Downsampling:** The act of reducing the size of an image\n",
        "\n"
      ]
    },
    {
      "cell_type": "markdown",
      "metadata": {
        "id": "a5sSc41j4Gz9",
        "colab_type": "text"
      },
      "source": [
        "# Summary\n",
        "In this lesson we learned about Convolutional Neural Networks. We learned how convolutions and max pooling works. You created and trained a Convolutional Neural Network from scratch. We saw that our CNN was able to perform better than the neural network we created in the previous lesson.\n",
        "\n",
        "If you want to know more details about how CNNs works make sure to check out this Comprehensive [Guide to Convolutional Neural Networks](https://towardsdatascience.com/a-comprehensive-guide-to-convolutional-neural-networks-the-eli5-way-3bd2b1164a53)."
      ]
    },
    {
      "cell_type": "code",
      "metadata": {
        "id": "hbBnfc6_vXW9",
        "colab_type": "code",
        "colab": {}
      },
      "source": [
        ""
      ],
      "execution_count": 0,
      "outputs": []
    }
  ]
}